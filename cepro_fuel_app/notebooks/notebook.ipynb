{
 "cells": [
  {
   "cell_type": "code",
   "execution_count": 38,
   "metadata": {},
   "outputs": [],
   "source": [
    "import requests as req\n",
    "import pandas as pd\n",
    "import copy"
   ]
  },
  {
   "cell_type": "code",
   "execution_count": 39,
   "metadata": {},
   "outputs": [],
   "source": [
    "req_url = 'https://einfo.ceproas.cz/cepro_portal_ws/rest/common/prox/mobileData'\n",
    "req_header = {'authorization': 'Basic bW9iYXA6RVdpa0Ey',\n",
    "              'content-type': 'application/json; charset=UTF-8',\n",
    "              'accept-encoding': 'gzip',\n",
    "              'user-agent': 'okhttp/4.9.0'}\n",
    "json_body_encyclopedia = '{\"encyklopedie\": {\"full\": true}, \"version\": 5}'\n",
    "json_body_stations = '{\"search\": {\"exclude_cs_ceny\": false,\"exclude_cs_kvalita\": false},\"version\": 5}'"
   ]
  },
  {
   "cell_type": "code",
   "execution_count": 40,
   "metadata": {},
   "outputs": [
    {
     "name": "stdout",
     "output_type": "stream",
     "text": [
      "ERROR : ceproas.cz API - Request Time out. CEPRO server is down.\n"
     ]
    }
   ],
   "source": [
    "try:\n",
    "    response_gas_stations = req.post(url=req_url, headers=req_header, data=json_body_stations, timeout = 10, verify=False)\n",
    "    response_encyclopedia = req.post(url=req_url, headers=req_header, data=json_body_encyclopedia, timeout = 10, verify=False)\n",
    "    response_gas_stations.raise_for_status()\n",
    "    response_encyclopedia.raise_for_status()\n",
    "except req.exceptions.Timeout as errrt:\n",
    "    print(\"ERROR : ceproas.cz API - Request Time out. CEPRO server is down.\")\n",
    "except req.exceptions.RequestException:\n",
    "    print('ERROR : Something went wrong.')"
   ]
  },
  {
   "cell_type": "code",
   "execution_count": null,
   "metadata": {},
   "outputs": [],
   "source": [
    "response_gas_stations = req.post(url=req_url, headers=req_header, data=json_body_stations, timeout = 10)"
   ]
  },
  {
   "cell_type": "code",
   "execution_count": null,
   "metadata": {},
   "outputs": [],
   "source": [
    "# pd.to_pickle(response_gas_stations, '_data/response_gas_stations.pickle')\n",
    "# pd.to_pickle(response_encyclopedia, '_data/response_encyclopedia.pickle')\n",
    "\n",
    "response_gas_stations = pd.read_pickle('_data/response_gas_stations.pickle')\n",
    "response_encyclopedia = pd.read_pickle('_data/response_encyclopedia.pickle')"
   ]
  },
  {
   "cell_type": "code",
   "execution_count": null,
   "metadata": {},
   "outputs": [],
   "source": [
    "# for development\n",
    "all_gs = copy.deepcopy(response_gas_stations.json())\n",
    "encyclopedia_info = copy.deepcopy(response_encyclopedia.json())\n",
    "\n",
    "# check for errors in json files\n",
    "if all_gs['success'] is not True:\n",
    "    error_msg_all_gs = all_gs['Error']['errorText']\n",
    "    print(error_msg_all_gs)\n",
    "\n",
    "if encyclopedia_info['success'] is not True:\n",
    "    error_msg_encyclopedia_info = encyclopedia_info['Error']['errorText']\n",
    "    print(error_msg_encyclopedia_info)\n",
    "\n",
    "# gas stations\n",
    "data_gs = all_gs['Data']\n",
    "\n",
    "# product list\n",
    "products_list = pd.DataFrame(data_gs['cis_prod_list'])\n",
    "\n",
    "# fuel prices\n",
    "gs_prices = pd.concat([\n",
    "    pd.DataFrame(data_gs['cs_ceny']).explode('ceny').reset_index()\n",
    "    , pd.DataFrame(pd.DataFrame(data_gs['cs_ceny']).explode('ceny')['ceny'].tolist()).reset_index()\n",
    "    ]\n",
    "    , axis=1)[['kod_cs', 'cena', 'kod_produkt']]\n",
    "gs_prices = gs_prices.merge(products_list, how='inner', on='kod_produkt')\n",
    "\n",
    "\n",
    "\n",
    "# Product quality list\n",
    "product_quality_list = pd.DataFrame(data_gs['cis_kvalita_list'])\n",
    "\n",
    "# product quality\n",
    "gs_product_quality = pd.DataFrame()\n",
    "for gs_product in data_gs['cs_kvalita']:\n",
    "    gs_number = gs_product['kod_cs']\n",
    "    product_quality_gs = pd.DataFrame(pd.DataFrame(gs_product['produkty']).explode('parametry')['parametry'].to_list())\n",
    "    product_quality_gs['kod_cs'] = gs_number\n",
    "    gs_product_quality = pd.concat([gs_product_quality,product_quality_gs], axis='index')\n",
    "gs_product_quality = gs_product_quality.merge(product_quality_list, how='inner', on='kod_parametr')\n",
    "\n",
    "# gas station location\n",
    "gs_adress_wo_gps = pd.DataFrame(data_gs['cs_fix_list']).reset_index()\n",
    "gs_adress = pd.concat([gs_adress_wo_gps, pd.DataFrame(gs_adress_wo_gps['GPS'].tolist())], axis=1)\n",
    "del(gs_adress_wo_gps)\n",
    "\n",
    "\n",
    "\n",
    "\n",
    "# encyclopedia\n",
    "# info = encyclopedia_info['Encyklopedie']\n",
    "# for i in info['tree']:\n",
    "#     if i['parent'] == 'root':\n",
    "#         root = pd.DataFrame(i['children'])\n",
    "#     if i['parent'] == 'produkt':\n",
    "#         product = pd.DataFrame(i['children'])\n",
    "#     if i['parent'] == 'kvalita':\n",
    "#         quality = pd.DataFrame(i['children'])\n",
    "#     if i['parent'] == 'kvalita:natural95':\n",
    "#         quality_95 = pd.DataFrame(i['children'])\n",
    "#     if i['parent'] == 'kvalita:optimal_diesel':\n",
    "#         quality_diesel = pd.DataFrame(i['children'])"
   ]
  },
  {
   "cell_type": "code",
   "execution_count": null,
   "metadata": {},
   "outputs": [],
   "source": [
    "gs_prices # cena paliva\n",
    "# gs_product_quality # hodnoty kvality pro kazdou benzinu\n",
    "# product_quality_list  # list parmaetru kvality, uz nepotrebuju\n",
    "# products_list # produkt ciselnik, uz nepotrebuju\n",
    "# gs_adress # adresa,kraje GPS\n"
   ]
  },
  {
   "cell_type": "code",
   "execution_count": 50,
   "metadata": {},
   "outputs": [
    {
     "ename": "ModuleNotFoundError",
     "evalue": "No module named 'src'",
     "output_type": "error",
     "traceback": [
      "\u001b[0;31m---------------------------------------------------------------------------\u001b[0m",
      "\u001b[0;31mModuleNotFoundError\u001b[0m                       Traceback (most recent call last)",
      "Cell \u001b[0;32mIn[50], line 1\u001b[0m\n\u001b[0;32m----> 1\u001b[0m \u001b[38;5;28;01mfrom\u001b[39;00m \u001b[38;5;21;01msrc\u001b[39;00m\u001b[38;5;21;01m.\u001b[39;00m\u001b[38;5;21;01mutils\u001b[39;00m \u001b[38;5;28;01mimport\u001b[39;00m data_download\n",
      "\u001b[0;31mModuleNotFoundError\u001b[0m: No module named 'src'"
     ]
    }
   ],
   "source": [
    "from src.utils import data_download\n"
   ]
  },
  {
   "cell_type": "code",
   "execution_count": null,
   "metadata": {},
   "outputs": [],
   "source": []
  }
 ],
 "metadata": {
  "kernelspec": {
   "display_name": "fuel-IFMYRkCp-py3.10",
   "language": "python",
   "name": "python3"
  },
  "language_info": {
   "codemirror_mode": {
    "name": "ipython",
    "version": 3
   },
   "file_extension": ".py",
   "mimetype": "text/x-python",
   "name": "python",
   "nbconvert_exporter": "python",
   "pygments_lexer": "ipython3",
   "version": "3.10.12"
  }
 },
 "nbformat": 4,
 "nbformat_minor": 2
}
